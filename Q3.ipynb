{
 "cells": [
  {
   "cell_type": "code",
   "execution_count": 37,
   "metadata": {},
   "outputs": [],
   "source": [
    "import pandas as pd\n",
    "import csv\n",
    "\n",
    "ndf = pd.DataFrame(columns=['Enrollmentno','college','branch'])\n",
    "df1 = pd.read_csv('studentdetails.csv')\n",
    "df2 = pd.read_csv('collegedetails.csv')\n",
    "df3 = pd.read_csv('choiceselect.csv')\n",
    "\n",
    "dfi = df1.merge(df3, on=\"Enrollmentno\", how = 'inner')\n",
    "\n",
    "\n",
    "flg=0\n",
    "for i in range(200):\n",
    "    x = dfi.iloc[i].Enrollmentno\n",
    "    y = list(dfi.loc[i,'choice1':'choice10'])\n",
    "    k=0\n",
    "    j=0\n",
    "    while flg==0 :\n",
    "        code , brn = y[k].split('-')\n",
    "        if code == df2.iloc[j].CollegeCode:\n",
    "            if df2.loc[j,brn]>0:\n",
    "                ndf = ndf.append({'Enrollmentno': x, 'college':code ,'branch': brn }, ignore_index=True)\n",
    "                df2.loc[j,brn]=df2.loc[j,brn]-1\n",
    "                break\n",
    "            else:\n",
    "                k=k+1\n",
    "                if k==9:\n",
    "                    flg = 1\n",
    "        else:\n",
    "            j=j+1\n",
    "            if j==100:\n",
    "                flg=1\n",
    "               \n",
    "ndf.to_csv('day1.csv',index = False)\n",
    "df2.to_csv('collfilled.csv',index = False)\n",
    "\n",
    "\n",
    "\n",
    "         \n"
   ]
  },
  {
   "cell_type": "code",
   "execution_count": 36,
   "metadata": {},
   "outputs": [
    {
     "name": "stdout",
     "output_type": "stream",
     "text": [
      "-----------------------------------------------\n",
      "200\n",
      "ALL STUDNETS GOT ADMISSION IN ONE OF THEIR PREFERRED COLLEGE AND BRANCH \n"
     ]
    }
   ],
   "source": [
    "#checks if any student is left\n",
    "df1 = pd.read_csv('studentdetails.csv')\n",
    "df2 = pd.read_csv('collfilled.csv')\n",
    "df3 = pd.read_csv('day2.csv')\n",
    "\n",
    "l1 = df1.loc[200:399,'Enrollmentno'].tolist()\n",
    "\n",
    "l2= df3['Enrollmentno'].head(200).tolist()\n",
    "print(\"-----------------------------------------------\")\n",
    "print(len(l2))\n",
    "res=list(set(l1)- set(l2))\n",
    "\n",
    "if len(res)==0:\n",
    "    print(\"ALL STUDNETS GOT ADMISSION IN ONE OF THEIR PREFERRED COLLEGE AND BRANCH \")\n",
    "else:\n",
    "    print(len(res))\n",
    "    \n"
   ]
  },
  {
   "cell_type": "code",
   "execution_count": null,
   "metadata": {},
   "outputs": [],
   "source": []
  }
 ],
 "metadata": {
  "kernelspec": {
   "display_name": "Python 3",
   "language": "python",
   "name": "python3"
  },
  "language_info": {
   "codemirror_mode": {
    "name": "ipython",
    "version": 3
   },
   "file_extension": ".py",
   "mimetype": "text/x-python",
   "name": "python",
   "nbconvert_exporter": "python",
   "pygments_lexer": "ipython3",
   "version": "3.7.4"
  }
 },
 "nbformat": 4,
 "nbformat_minor": 2
}
