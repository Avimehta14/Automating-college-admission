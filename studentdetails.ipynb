{
 "cells": [
  {
   "cell_type": "code",
   "execution_count": 3,
   "metadata": {},
   "outputs": [],
   "source": [
    "import csv\n",
    "import random\n",
    "from itertools import zip_longest\n",
    "\n",
    "\n",
    "list3=[]\n",
    "\n",
    "\n",
    "randomList = random.sample(range(1, 10001),10000)\n",
    "rlist = randomList\n",
    "while len(rlist)!=0:\n",
    "    chosen = random.choice(rlist)\n",
    "    list3.append('E'+str(chosen).zfill(4))\n",
    "    rlist = list(set(rlist) - set([chosen]))\n",
    "    \n",
    "\n",
    "sub1 = []\n",
    "\n",
    "for i in range (0,10000):\n",
    "    r=random.randint(40,100)\n",
    "    sub1.append(r)   \n",
    "\n",
    "\n",
    "sub2 = []\n",
    "\n",
    "for i in range(0,10000):\n",
    "    n = random.randint(40,100)\n",
    "    sub2.append(n)\n",
    "\n",
    "sub3=[]\n",
    "for i in range(0,10000):\n",
    "    l=random.randint(40,100)\n",
    "    sub3.append(l) \n",
    "\n",
    "sub4=[]\n",
    "for i in range(0,10000):\n",
    "    m=random.randint(40,100)\n",
    "    sub4.append(m)\n",
    "    \n",
    "sub5=[]\n",
    "for i in range(0,10000):\n",
    "    g=random.randint(40,100)\n",
    "    sub5.append(g)\n",
    "   \n",
    "d = [list3,sub1, sub2,sub3,sub4,sub5]\n",
    "export_data = zip_longest(*d, fillvalue = '')\n",
    "with open('studentdetails.csv', 'w', encoding=\"ISO-8859-1\", newline='') as myfile:\n",
    "      wr = csv.writer(myfile)\n",
    "      wr.writerow((\"Enrollmentno\",\"sub1\", \"sub2\",\"sub3\",\"sub4\",\"sub5\"))\n",
    "      wr.writerows(export_data)\n",
    "myfile.close()"
   ]
  },
  {
   "cell_type": "code",
   "execution_count": null,
   "metadata": {},
   "outputs": [],
   "source": []
  },
  {
   "cell_type": "code",
   "execution_count": null,
   "metadata": {},
   "outputs": [],
   "source": []
  },
  {
   "cell_type": "code",
   "execution_count": null,
   "metadata": {},
   "outputs": [],
   "source": []
  },
  {
   "cell_type": "code",
   "execution_count": null,
   "metadata": {},
   "outputs": [],
   "source": []
  },
  {
   "cell_type": "code",
   "execution_count": null,
   "metadata": {},
   "outputs": [],
   "source": []
  },
  {
   "cell_type": "code",
   "execution_count": null,
   "metadata": {},
   "outputs": [],
   "source": []
  },
  {
   "cell_type": "code",
   "execution_count": null,
   "metadata": {},
   "outputs": [],
   "source": []
  }
 ],
 "metadata": {
  "kernelspec": {
   "display_name": "Python 3",
   "language": "python",
   "name": "python3"
  },
  "language_info": {
   "codemirror_mode": {
    "name": "ipython",
    "version": 3
   },
   "file_extension": ".py",
   "mimetype": "text/x-python",
   "name": "python",
   "nbconvert_exporter": "python",
   "pygments_lexer": "ipython3",
   "version": "3.7.4"
  }
 },
 "nbformat": 4,
 "nbformat_minor": 4
}
